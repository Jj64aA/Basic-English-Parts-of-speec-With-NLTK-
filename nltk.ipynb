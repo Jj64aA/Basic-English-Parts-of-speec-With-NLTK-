{
  "nbformat": 4,
  "nbformat_minor": 0,
  "metadata": {
    "colab": {
      "provenance": []
    },
    "kernelspec": {
      "name": "python3",
      "display_name": "Python 3"
    },
    "language_info": {
      "name": "python"
    }
  },
  "cells": [
    {
      "cell_type": "code",
      "execution_count": 1,
      "metadata": {
        "id": "cbfJFNfjYB-3"
      },
      "outputs": [],
      "source": [
        "import nltk"
      ]
    },
    {
      "cell_type": "code",
      "source": [
        "nltk.download('punkt')\n",
        "nltk.download('averaged_perceptron_tagger')"
      ],
      "metadata": {
        "colab": {
          "base_uri": "https://localhost:8080/"
        },
        "id": "A_iOebizZRrO",
        "outputId": "9f3d6135-5fe6-431b-f9aa-690b0565cd4e"
      },
      "execution_count": 11,
      "outputs": [
        {
          "output_type": "stream",
          "name": "stderr",
          "text": [
            "[nltk_data] Downloading package punkt to /root/nltk_data...\n",
            "[nltk_data]   Package punkt is already up-to-date!\n",
            "[nltk_data] Downloading package averaged_perceptron_tagger to\n",
            "[nltk_data]     /root/nltk_data...\n",
            "[nltk_data]   Unzipping taggers/averaged_perceptron_tagger.zip.\n"
          ]
        },
        {
          "output_type": "execute_result",
          "data": {
            "text/plain": [
              "True"
            ]
          },
          "metadata": {},
          "execution_count": 11
        }
      ]
    },
    {
      "cell_type": "code",
      "source": [
        "text = \"But I must explain to you how all this mistaken idea of denouncing pleasure and praising pain was born and I will give you a complete account of the system, and expound the actual teachings of the great explorer of the truth, the master-builder of human happiness. No one rejects, dislikes, or avoids pleasure itself, because it is pleasure\""
      ],
      "metadata": {
        "id": "GKKd9lPIYQh-"
      },
      "execution_count": 72,
      "outputs": []
    },
    {
      "cell_type": "code",
      "source": [
        "tokens = nltk.word_tokenize(text)\n",
        "print(tokens)"
      ],
      "metadata": {
        "colab": {
          "base_uri": "https://localhost:8080/"
        },
        "id": "b1a80hk0YdI7",
        "outputId": "35ee25bf-ed41-49fb-8184-54692daab6c5"
      },
      "execution_count": 73,
      "outputs": [
        {
          "output_type": "stream",
          "name": "stdout",
          "text": [
            "['But', 'I', 'must', 'explain', 'to', 'you', 'how', 'all', 'this', 'mistaken', 'idea', 'of', 'denouncing', 'pleasure', 'and', 'praising', 'pain', 'was', 'born', 'and', 'I', 'will', 'give', 'you', 'a', 'complete', 'account', 'of', 'the', 'system', ',', 'and', 'expound', 'the', 'actual', 'teachings', 'of', 'the', 'great', 'explorer', 'of', 'the', 'truth', ',', 'the', 'master-builder', 'of', 'human', 'happiness', '.', 'No', 'one', 'rejects', ',', 'dislikes', ',', 'or', 'avoids', 'pleasure', 'itself', ',', 'because', 'it', 'is', 'pleasure']\n"
          ]
        }
      ]
    },
    {
      "cell_type": "code",
      "source": [
        "from nltk import pos_tag"
      ],
      "metadata": {
        "id": "WG1wI4nNa0lc"
      },
      "execution_count": 9,
      "outputs": []
    },
    {
      "cell_type": "code",
      "source": [
        "pos_tag(tokens)"
      ],
      "metadata": {
        "colab": {
          "base_uri": "https://localhost:8080/"
        },
        "id": "rysWz3bzd6Fb",
        "outputId": "490b0cb5-f32f-4faa-d75e-33fca30c1289"
      },
      "execution_count": 74,
      "outputs": [
        {
          "output_type": "execute_result",
          "data": {
            "text/plain": [
              "[('But', 'CC'),\n",
              " ('I', 'PRP'),\n",
              " ('must', 'MD'),\n",
              " ('explain', 'VB'),\n",
              " ('to', 'TO'),\n",
              " ('you', 'PRP'),\n",
              " ('how', 'WRB'),\n",
              " ('all', 'PDT'),\n",
              " ('this', 'DT'),\n",
              " ('mistaken', 'JJ'),\n",
              " ('idea', 'NN'),\n",
              " ('of', 'IN'),\n",
              " ('denouncing', 'VBG'),\n",
              " ('pleasure', 'NN'),\n",
              " ('and', 'CC'),\n",
              " ('praising', 'VBG'),\n",
              " ('pain', 'NN'),\n",
              " ('was', 'VBD'),\n",
              " ('born', 'VBN'),\n",
              " ('and', 'CC'),\n",
              " ('I', 'PRP'),\n",
              " ('will', 'MD'),\n",
              " ('give', 'VB'),\n",
              " ('you', 'PRP'),\n",
              " ('a', 'DT'),\n",
              " ('complete', 'JJ'),\n",
              " ('account', 'NN'),\n",
              " ('of', 'IN'),\n",
              " ('the', 'DT'),\n",
              " ('system', 'NN'),\n",
              " (',', ','),\n",
              " ('and', 'CC'),\n",
              " ('expound', 'IN'),\n",
              " ('the', 'DT'),\n",
              " ('actual', 'JJ'),\n",
              " ('teachings', 'NNS'),\n",
              " ('of', 'IN'),\n",
              " ('the', 'DT'),\n",
              " ('great', 'JJ'),\n",
              " ('explorer', 'NN'),\n",
              " ('of', 'IN'),\n",
              " ('the', 'DT'),\n",
              " ('truth', 'NN'),\n",
              " (',', ','),\n",
              " ('the', 'DT'),\n",
              " ('master-builder', 'NN'),\n",
              " ('of', 'IN'),\n",
              " ('human', 'JJ'),\n",
              " ('happiness', 'NN'),\n",
              " ('.', '.'),\n",
              " ('No', 'DT'),\n",
              " ('one', 'NN'),\n",
              " ('rejects', 'VBZ'),\n",
              " (',', ','),\n",
              " ('dislikes', 'NNS'),\n",
              " (',', ','),\n",
              " ('or', 'CC'),\n",
              " ('avoids', 'NNS'),\n",
              " ('pleasure', 'NN'),\n",
              " ('itself', 'PRP'),\n",
              " (',', ','),\n",
              " ('because', 'IN'),\n",
              " ('it', 'PRP'),\n",
              " ('is', 'VBZ'),\n",
              " ('pleasure', 'JJ')]"
            ]
          },
          "metadata": {},
          "execution_count": 74
        }
      ]
    },
    {
      "cell_type": "code",
      "source": [
        "def list_words_type_classification(pos_tag, _type : str):\n",
        "    type_list = []\n",
        "    for pos_word in pos_tag :\n",
        "      if pos_word[1] == _type :\n",
        "        type_list.append(pos_word[0])\n",
        "\n",
        "    return type_list\n",
        "\n"
      ],
      "metadata": {
        "id": "CclhDKoQb6yZ"
      },
      "execution_count": 75,
      "outputs": []
    },
    {
      "cell_type": "code",
      "source": [
        "\n",
        "verbs = list_words_type_classification(pos_tag(tokens) , 'VB')\n",
        "print(verbs)"
      ],
      "metadata": {
        "colab": {
          "base_uri": "https://localhost:8080/"
        },
        "id": "4bfaNAUJks8P",
        "outputId": "798f782e-3064-49a5-98ab-34533e701584"
      },
      "execution_count": 64,
      "outputs": [
        {
          "output_type": "stream",
          "name": "stdout",
          "text": [
            "['feel']\n"
          ]
        }
      ]
    },
    {
      "cell_type": "code",
      "source": [
        "\n",
        "nouns = list_words_type_classification(pos_tag(tokens) , 'NN')\n",
        "print(nouns)"
      ],
      "metadata": {
        "colab": {
          "base_uri": "https://localhost:8080/"
        },
        "id": "VWZetPPWkvxE",
        "outputId": "e60a6869-4169-4030-a002-5b9049e57291"
      },
      "execution_count": 63,
      "outputs": [
        {
          "output_type": "stream",
          "name": "stdout",
          "text": [
            "[\"o'clock\", 'morning']\n"
          ]
        }
      ]
    },
    {
      "cell_type": "code",
      "source": [
        "Adjectives = list_words_type_classification(pos_tag(tokens) , 'JJ')\n",
        "print(Adjectives)"
      ],
      "metadata": {
        "colab": {
          "base_uri": "https://localhost:8080/"
        },
        "id": "-yeienGkk4Ab",
        "outputId": "30acddf0-da72-47d5-e946-7aed356ab299"
      },
      "execution_count": 62,
      "outputs": [
        {
          "output_type": "stream",
          "name": "stdout",
          "text": [
            "['good']\n"
          ]
        }
      ]
    },
    {
      "cell_type": "code",
      "source": [
        "Adverbs = list_words_type_classification(pos_tag(tokens) , 'RB')\n",
        "print(Adverbs)"
      ],
      "metadata": {
        "colab": {
          "base_uri": "https://localhost:8080/"
        },
        "id": "CewW6wZcmH2J",
        "outputId": "abd2e3cd-3880-4339-eb63-01a8cb4dcafb"
      },
      "execution_count": 58,
      "outputs": [
        {
          "output_type": "stream",
          "name": "stdout",
          "text": [
            "[\"n't\", 'very']\n"
          ]
        }
      ]
    },
    {
      "cell_type": "code",
      "source": [
        "def lists_type_classification(pos_tag , *arg) :\n",
        "  dic = {}\n",
        "  for _type in arg :\n",
        "     dic[_type] = list_words_type_classification(pos_tag , _type)\n",
        "\n",
        "  return dic"
      ],
      "metadata": {
        "id": "KnEFEltGnLrq"
      },
      "execution_count": 67,
      "outputs": []
    },
    {
      "cell_type": "code",
      "source": [
        "lists_type_classification(pos_tag(tokens) , \"RB\",\"NN\",\"JJ\",\"VB\")"
      ],
      "metadata": {
        "colab": {
          "base_uri": "https://localhost:8080/"
        },
        "id": "BxDwnq2eoSWZ",
        "outputId": "69077acc-7d2b-4422-b7cc-4dd6f22a40d7"
      },
      "execution_count": 77,
      "outputs": [
        {
          "output_type": "execute_result",
          "data": {
            "text/plain": [
              "{'RB': [],\n",
              " 'NN': ['idea',\n",
              "  'pleasure',\n",
              "  'pain',\n",
              "  'account',\n",
              "  'system',\n",
              "  'explorer',\n",
              "  'truth',\n",
              "  'master-builder',\n",
              "  'happiness',\n",
              "  'one',\n",
              "  'pleasure'],\n",
              " 'JJ': ['mistaken', 'complete', 'actual', 'great', 'human', 'pleasure'],\n",
              " 'VB': ['explain', 'give']}"
            ]
          },
          "metadata": {},
          "execution_count": 77
        }
      ]
    }
  ]
}