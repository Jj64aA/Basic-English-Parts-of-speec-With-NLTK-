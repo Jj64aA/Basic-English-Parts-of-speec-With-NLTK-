{
  "nbformat": 4,
  "nbformat_minor": 0,
  "metadata": {
    "colab": {
      "provenance": []
    },
    "kernelspec": {
      "name": "python3",
      "display_name": "Python 3"
    },
    "language_info": {
      "name": "python"
    }
  },
  "cells": [
    {
      "cell_type": "code",
      "execution_count": 23,
      "metadata": {
        "id": "cbfJFNfjYB-3"
      },
      "outputs": [],
      "source": [
        "import nltk"
      ]
    },
    {
      "cell_type": "code",
      "source": [
        "nltk.download('punkt')\n",
        "nltk.download('averaged_perceptron_tagger')\n",
        "nltk.download('wordnet')"
      ],
      "metadata": {
        "colab": {
          "base_uri": "https://localhost:8080/"
        },
        "id": "A_iOebizZRrO",
        "outputId": "d0757797-d663-4b6c-9091-72a0f09365d9"
      },
      "execution_count": 24,
      "outputs": [
        {
          "output_type": "stream",
          "name": "stderr",
          "text": [
            "[nltk_data] Downloading package punkt to /root/nltk_data...\n",
            "[nltk_data]   Package punkt is already up-to-date!\n",
            "[nltk_data] Downloading package averaged_perceptron_tagger to\n",
            "[nltk_data]     /root/nltk_data...\n",
            "[nltk_data]   Package averaged_perceptron_tagger is already up-to-\n",
            "[nltk_data]       date!\n",
            "[nltk_data] Downloading package wordnet to /root/nltk_data...\n"
          ]
        },
        {
          "output_type": "execute_result",
          "data": {
            "text/plain": [
              "True"
            ]
          },
          "metadata": {},
          "execution_count": 24
        }
      ]
    },
    {
      "cell_type": "code",
      "source": [
        "text = \"But I must explain to you how all this mistaken idea of denouncing pleasure and praising pain was born and I will give you a complete account of the system, and expound the actual teachings of the great explorer of the truth, the master-builder of human happiness. No one rejects, dislikes, or avoids pleasure itself, because it is pleasure\""
      ],
      "metadata": {
        "id": "GKKd9lPIYQh-"
      },
      "execution_count": 25,
      "outputs": []
    },
    {
      "cell_type": "code",
      "source": [
        "tokens = nltk.word_tokenize(text)\n",
        "print(tokens)"
      ],
      "metadata": {
        "colab": {
          "base_uri": "https://localhost:8080/"
        },
        "id": "b1a80hk0YdI7",
        "outputId": "9d491582-1c50-4d84-aacd-bf3322733ea7"
      },
      "execution_count": 26,
      "outputs": [
        {
          "output_type": "stream",
          "name": "stdout",
          "text": [
            "['But', 'I', 'must', 'explain', 'to', 'you', 'how', 'all', 'this', 'mistaken', 'idea', 'of', 'denouncing', 'pleasure', 'and', 'praising', 'pain', 'was', 'born', 'and', 'I', 'will', 'give', 'you', 'a', 'complete', 'account', 'of', 'the', 'system', ',', 'and', 'expound', 'the', 'actual', 'teachings', 'of', 'the', 'great', 'explorer', 'of', 'the', 'truth', ',', 'the', 'master-builder', 'of', 'human', 'happiness', '.', 'No', 'one', 'rejects', ',', 'dislikes', ',', 'or', 'avoids', 'pleasure', 'itself', ',', 'because', 'it', 'is', 'pleasure']\n"
          ]
        }
      ]
    },
    {
      "cell_type": "code",
      "source": [
        "from nltk import pos_tag"
      ],
      "metadata": {
        "id": "WG1wI4nNa0lc"
      },
      "execution_count": 27,
      "outputs": []
    },
    {
      "cell_type": "code",
      "source": [
        "pos_tag(tokens)"
      ],
      "metadata": {
        "colab": {
          "base_uri": "https://localhost:8080/"
        },
        "id": "rysWz3bzd6Fb",
        "outputId": "d0c1f067-01e4-461a-9fd7-4dc5189a43d9"
      },
      "execution_count": 28,
      "outputs": [
        {
          "output_type": "execute_result",
          "data": {
            "text/plain": [
              "[('But', 'CC'),\n",
              " ('I', 'PRP'),\n",
              " ('must', 'MD'),\n",
              " ('explain', 'VB'),\n",
              " ('to', 'TO'),\n",
              " ('you', 'PRP'),\n",
              " ('how', 'WRB'),\n",
              " ('all', 'PDT'),\n",
              " ('this', 'DT'),\n",
              " ('mistaken', 'JJ'),\n",
              " ('idea', 'NN'),\n",
              " ('of', 'IN'),\n",
              " ('denouncing', 'VBG'),\n",
              " ('pleasure', 'NN'),\n",
              " ('and', 'CC'),\n",
              " ('praising', 'VBG'),\n",
              " ('pain', 'NN'),\n",
              " ('was', 'VBD'),\n",
              " ('born', 'VBN'),\n",
              " ('and', 'CC'),\n",
              " ('I', 'PRP'),\n",
              " ('will', 'MD'),\n",
              " ('give', 'VB'),\n",
              " ('you', 'PRP'),\n",
              " ('a', 'DT'),\n",
              " ('complete', 'JJ'),\n",
              " ('account', 'NN'),\n",
              " ('of', 'IN'),\n",
              " ('the', 'DT'),\n",
              " ('system', 'NN'),\n",
              " (',', ','),\n",
              " ('and', 'CC'),\n",
              " ('expound', 'IN'),\n",
              " ('the', 'DT'),\n",
              " ('actual', 'JJ'),\n",
              " ('teachings', 'NNS'),\n",
              " ('of', 'IN'),\n",
              " ('the', 'DT'),\n",
              " ('great', 'JJ'),\n",
              " ('explorer', 'NN'),\n",
              " ('of', 'IN'),\n",
              " ('the', 'DT'),\n",
              " ('truth', 'NN'),\n",
              " (',', ','),\n",
              " ('the', 'DT'),\n",
              " ('master-builder', 'NN'),\n",
              " ('of', 'IN'),\n",
              " ('human', 'JJ'),\n",
              " ('happiness', 'NN'),\n",
              " ('.', '.'),\n",
              " ('No', 'DT'),\n",
              " ('one', 'NN'),\n",
              " ('rejects', 'VBZ'),\n",
              " (',', ','),\n",
              " ('dislikes', 'NNS'),\n",
              " (',', ','),\n",
              " ('or', 'CC'),\n",
              " ('avoids', 'NNS'),\n",
              " ('pleasure', 'NN'),\n",
              " ('itself', 'PRP'),\n",
              " (',', ','),\n",
              " ('because', 'IN'),\n",
              " ('it', 'PRP'),\n",
              " ('is', 'VBZ'),\n",
              " ('pleasure', 'JJ')]"
            ]
          },
          "metadata": {},
          "execution_count": 28
        }
      ]
    },
    {
      "cell_type": "code",
      "source": [
        "def list_words_type_classification(pos_tag, _type : str):\n",
        "    type_list = []\n",
        "    for pos_word in pos_tag :\n",
        "      if pos_word[1] == _type :\n",
        "        type_list.append(pos_word[0])\n",
        "\n",
        "    return type_list\n",
        "\n"
      ],
      "metadata": {
        "id": "CclhDKoQb6yZ"
      },
      "execution_count": 29,
      "outputs": []
    },
    {
      "cell_type": "code",
      "source": [
        "\n",
        "verbs = list_words_type_classification(pos_tag(tokens) , 'VB')\n",
        "print(verbs)"
      ],
      "metadata": {
        "colab": {
          "base_uri": "https://localhost:8080/"
        },
        "id": "4bfaNAUJks8P",
        "outputId": "63fa9ab0-89fb-494c-ecc2-3dbda6a2c0fe"
      },
      "execution_count": 30,
      "outputs": [
        {
          "output_type": "stream",
          "name": "stdout",
          "text": [
            "['explain', 'give']\n"
          ]
        }
      ]
    },
    {
      "cell_type": "code",
      "source": [
        "\n",
        "nouns = list_words_type_classification(pos_tag(tokens) , 'NN')\n",
        "print(nouns)"
      ],
      "metadata": {
        "colab": {
          "base_uri": "https://localhost:8080/"
        },
        "id": "VWZetPPWkvxE",
        "outputId": "a6256954-4c64-43a6-abb9-c77554dd2441"
      },
      "execution_count": 31,
      "outputs": [
        {
          "output_type": "stream",
          "name": "stdout",
          "text": [
            "['idea', 'pleasure', 'pain', 'account', 'system', 'explorer', 'truth', 'master-builder', 'happiness', 'one', 'pleasure']\n"
          ]
        }
      ]
    },
    {
      "cell_type": "code",
      "source": [
        "Adjectives = list_words_type_classification(pos_tag(tokens) , 'JJ')\n",
        "print(Adjectives)"
      ],
      "metadata": {
        "colab": {
          "base_uri": "https://localhost:8080/"
        },
        "id": "-yeienGkk4Ab",
        "outputId": "e7217b1e-2d2e-45e6-8280-edd1b76ad2b4"
      },
      "execution_count": 32,
      "outputs": [
        {
          "output_type": "stream",
          "name": "stdout",
          "text": [
            "['mistaken', 'complete', 'actual', 'great', 'human', 'pleasure']\n"
          ]
        }
      ]
    },
    {
      "cell_type": "code",
      "source": [
        "Adverbs = list_words_type_classification(pos_tag(tokens) , 'RB')\n",
        "print(Adverbs)"
      ],
      "metadata": {
        "colab": {
          "base_uri": "https://localhost:8080/"
        },
        "id": "CewW6wZcmH2J",
        "outputId": "1e2e02e0-77c5-48fb-bd2d-412093c1ebdd"
      },
      "execution_count": 33,
      "outputs": [
        {
          "output_type": "stream",
          "name": "stdout",
          "text": [
            "[]\n"
          ]
        }
      ]
    },
    {
      "cell_type": "code",
      "source": [
        "def lists_type_classification(pos_tag , *arg) :\n",
        "  dic = {}\n",
        "  for _type in arg :\n",
        "     dic[_type] = list_words_type_classification(pos_tag , _type)\n",
        "\n",
        "  return dic"
      ],
      "metadata": {
        "id": "KnEFEltGnLrq"
      },
      "execution_count": 34,
      "outputs": []
    },
    {
      "cell_type": "code",
      "source": [
        "lists_type_classification(pos_tag(tokens) , \"RB\",\"NN\",\"JJ\",\"VB\")"
      ],
      "metadata": {
        "colab": {
          "base_uri": "https://localhost:8080/"
        },
        "id": "BxDwnq2eoSWZ",
        "outputId": "83b03868-d543-4666-a3f4-ba35eb9eeae7"
      },
      "execution_count": 35,
      "outputs": [
        {
          "output_type": "execute_result",
          "data": {
            "text/plain": [
              "{'RB': [],\n",
              " 'NN': ['idea',\n",
              "  'pleasure',\n",
              "  'pain',\n",
              "  'account',\n",
              "  'system',\n",
              "  'explorer',\n",
              "  'truth',\n",
              "  'master-builder',\n",
              "  'happiness',\n",
              "  'one',\n",
              "  'pleasure'],\n",
              " 'JJ': ['mistaken', 'complete', 'actual', 'great', 'human', 'pleasure'],\n",
              " 'VB': ['explain', 'give']}"
            ]
          },
          "metadata": {},
          "execution_count": 35
        }
      ]
    },
    {
      "cell_type": "code",
      "source": [
        "from nltk import WordPunctTokenizer"
      ],
      "metadata": {
        "id": "mA3KvfIWnZo6"
      },
      "execution_count": 36,
      "outputs": []
    },
    {
      "cell_type": "code",
      "source": [
        "print(WordPunctTokenizer().tokenize(text))"
      ],
      "metadata": {
        "colab": {
          "base_uri": "https://localhost:8080/"
        },
        "id": "qo6flYQ6oyDQ",
        "outputId": "fa3fc9ed-ee3b-4bfd-fb51-45f6c91e0f98"
      },
      "execution_count": 37,
      "outputs": [
        {
          "output_type": "stream",
          "name": "stdout",
          "text": [
            "['But', 'I', 'must', 'explain', 'to', 'you', 'how', 'all', 'this', 'mistaken', 'idea', 'of', 'denouncing', 'pleasure', 'and', 'praising', 'pain', 'was', 'born', 'and', 'I', 'will', 'give', 'you', 'a', 'complete', 'account', 'of', 'the', 'system', ',', 'and', 'expound', 'the', 'actual', 'teachings', 'of', 'the', 'great', 'explorer', 'of', 'the', 'truth', ',', 'the', 'master', '-', 'builder', 'of', 'human', 'happiness', '.', 'No', 'one', 'rejects', ',', 'dislikes', ',', 'or', 'avoids', 'pleasure', 'itself', ',', 'because', 'it', 'is', 'pleasure']\n"
          ]
        }
      ]
    },
    {
      "cell_type": "code",
      "source": [
        "from nltk.stem.porter import PorterStemmer\n",
        "from nltk.stem.lancaster import LancasterStemmer\n",
        "from nltk.stem.snowball import SnowballStemmer"
      ],
      "metadata": {
        "id": "fUGlu2JsqA1N"
      },
      "execution_count": 38,
      "outputs": []
    },
    {
      "cell_type": "code",
      "source": [
        "input_words = tokens\n",
        "porter = PorterStemmer()\n",
        "lancaster = LancasterStemmer()\n",
        "snowball = SnowballStemmer('english')"
      ],
      "metadata": {
        "id": "rOg6xUxXqGLA"
      },
      "execution_count": 39,
      "outputs": []
    },
    {
      "cell_type": "code",
      "source": [
        "stemmer_names = ['PORTER', 'LANCASTER', 'SNOWBALL']\n",
        "formatted_text = '{:>16}' * (len(stemmer_names) + 1)\n",
        "print('\\n', formatted_text.format('INPUT WORD', *stemmer_names),\n",
        " '\\n', '='*68)\n",
        "for word in input_words:\n",
        " output = [word, porter.stem(word),\n",
        " lancaster.stem(word), snowball.stem(word)]\n",
        " print(formatted_text.format(*output))"
      ],
      "metadata": {
        "colab": {
          "base_uri": "https://localhost:8080/"
        },
        "id": "W2gIbMw9qtcd",
        "outputId": "1f668c16-7256-4c0c-9fab-b9f391888b2b"
      },
      "execution_count": 40,
      "outputs": [
        {
          "output_type": "stream",
          "name": "stdout",
          "text": [
            "\n",
            "       INPUT WORD          PORTER       LANCASTER        SNOWBALL \n",
            " ====================================================================\n",
            "             But             but             but             but\n",
            "               I               i               i               i\n",
            "            must            must            must            must\n",
            "         explain         explain         explain         explain\n",
            "              to              to              to              to\n",
            "             you             you             you             you\n",
            "             how             how             how             how\n",
            "             all             all              al             all\n",
            "            this             thi             thi            this\n",
            "        mistaken        mistaken          mistak        mistaken\n",
            "            idea            idea             ide            idea\n",
            "              of              of              of              of\n",
            "      denouncing         denounc         denount         denounc\n",
            "        pleasure         pleasur           pleas         pleasur\n",
            "             and             and             and             and\n",
            "        praising           prais             pra           prais\n",
            "            pain            pain            pain            pain\n",
            "             was              wa             was             was\n",
            "            born            born            born            born\n",
            "             and             and             and             and\n",
            "               I               i               i               i\n",
            "            will            will             wil            will\n",
            "            give            give             giv            give\n",
            "             you             you             you             you\n",
            "               a               a               a               a\n",
            "        complete         complet         complet         complet\n",
            "         account         account         account         account\n",
            "              of              of              of              of\n",
            "             the             the             the             the\n",
            "          system          system          system          system\n",
            "               ,               ,               ,               ,\n",
            "             and             and             and             and\n",
            "         expound         expound         expound         expound\n",
            "             the             the             the             the\n",
            "          actual          actual             act          actual\n",
            "       teachings           teach           teach           teach\n",
            "              of              of              of              of\n",
            "             the             the             the             the\n",
            "           great           great             gre           great\n",
            "        explorer          explor            expl          explor\n",
            "              of              of              of              of\n",
            "             the             the             the             the\n",
            "           truth           truth             tru           truth\n",
            "               ,               ,               ,               ,\n",
            "             the             the             the             the\n",
            "  master-builder    master-build    master-build    master-build\n",
            "              of              of              of              of\n",
            "           human           human             hum           human\n",
            "       happiness           happi           happy           happi\n",
            "               .               .               .               .\n",
            "              No              no              no              no\n",
            "             one             one              on             one\n",
            "         rejects          reject          reject          reject\n",
            "               ,               ,               ,               ,\n",
            "        dislikes          dislik          dislik          dislik\n",
            "               ,               ,               ,               ,\n",
            "              or              or              or              or\n",
            "          avoids           avoid           avoid           avoid\n",
            "        pleasure         pleasur           pleas         pleasur\n",
            "          itself          itself          itself          itself\n",
            "               ,               ,               ,               ,\n",
            "         because          becaus          becaus          becaus\n",
            "              it              it              it              it\n",
            "              is              is              is              is\n",
            "        pleasure         pleasur           pleas         pleasur\n"
          ]
        }
      ]
    },
    {
      "cell_type": "code",
      "source": [
        "from nltk import WordNetLemmatizer"
      ],
      "metadata": {
        "id": "uWgVSr2qvesh"
      },
      "execution_count": 41,
      "outputs": []
    },
    {
      "cell_type": "code",
      "source": [
        "print(tokens)"
      ],
      "metadata": {
        "id": "mH1aBtFS0qrL",
        "outputId": "d84afc2c-4f72-4992-e7c9-a2452fd385ec",
        "colab": {
          "base_uri": "https://localhost:8080/"
        }
      },
      "execution_count": 42,
      "outputs": [
        {
          "output_type": "stream",
          "name": "stdout",
          "text": [
            "['But', 'I', 'must', 'explain', 'to', 'you', 'how', 'all', 'this', 'mistaken', 'idea', 'of', 'denouncing', 'pleasure', 'and', 'praising', 'pain', 'was', 'born', 'and', 'I', 'will', 'give', 'you', 'a', 'complete', 'account', 'of', 'the', 'system', ',', 'and', 'expound', 'the', 'actual', 'teachings', 'of', 'the', 'great', 'explorer', 'of', 'the', 'truth', ',', 'the', 'master-builder', 'of', 'human', 'happiness', '.', 'No', 'one', 'rejects', ',', 'dislikes', ',', 'or', 'avoids', 'pleasure', 'itself', ',', 'because', 'it', 'is', 'pleasure']\n"
          ]
        }
      ]
    },
    {
      "cell_type": "code",
      "source": [
        "input_workds = tokens\n",
        "lemmatizer = WordNetLemmatizer()\n",
        "lemmatizer_names = ['NOUN LEMMATIZER', 'VERB LEMMATIZER']\n",
        "formatted_text = '{:>24}' * (len(lemmatizer_names) + 1)\n",
        "print('\\n', formatted_text.format('INPUT WORD', *lemmatizer_names),\n",
        " '\\n', '='*75)\n",
        "for word in input_words:\n",
        "  output = [word, lemmatizer.lemmatize(word, pos='n'), lemmatizer.lemmatize(word, pos='v')]\n",
        "  print(formatted_text.format(*output))"
      ],
      "metadata": {
        "colab": {
          "base_uri": "https://localhost:8080/"
        },
        "id": "Y2k-sQYezc9q",
        "outputId": "dc0b509e-f0b6-403d-e3e4-5a0e4c3b7f73"
      },
      "execution_count": 43,
      "outputs": [
        {
          "output_type": "stream",
          "name": "stdout",
          "text": [
            "\n",
            "               INPUT WORD         NOUN LEMMATIZER         VERB LEMMATIZER \n",
            " ===========================================================================\n",
            "                     But                     But                     But\n",
            "                       I                       I                       I\n",
            "                    must                    must                    must\n",
            "                 explain                 explain                 explain\n",
            "                      to                      to                      to\n",
            "                     you                     you                     you\n",
            "                     how                     how                     how\n",
            "                     all                     all                     all\n",
            "                    this                    this                    this\n",
            "                mistaken                mistaken                 mistake\n",
            "                    idea                    idea                    idea\n",
            "                      of                      of                      of\n",
            "              denouncing              denouncing                denounce\n",
            "                pleasure                pleasure                pleasure\n",
            "                     and                     and                     and\n",
            "                praising                praising                  praise\n",
            "                    pain                    pain                    pain\n",
            "                     was                      wa                      be\n",
            "                    born                    born                    bear\n",
            "                     and                     and                     and\n",
            "                       I                       I                       I\n",
            "                    will                    will                    will\n",
            "                    give                    give                    give\n",
            "                     you                     you                     you\n",
            "                       a                       a                       a\n",
            "                complete                complete                complete\n",
            "                 account                 account                 account\n",
            "                      of                      of                      of\n",
            "                     the                     the                     the\n",
            "                  system                  system                  system\n",
            "                       ,                       ,                       ,\n",
            "                     and                     and                     and\n",
            "                 expound                 expound                 expound\n",
            "                     the                     the                     the\n",
            "                  actual                  actual                  actual\n",
            "               teachings                teaching                   teach\n",
            "                      of                      of                      of\n",
            "                     the                     the                     the\n",
            "                   great                   great                   great\n",
            "                explorer                explorer                explorer\n",
            "                      of                      of                      of\n",
            "                     the                     the                     the\n",
            "                   truth                   truth                   truth\n",
            "                       ,                       ,                       ,\n",
            "                     the                     the                     the\n",
            "          master-builder          master-builder          master-builder\n",
            "                      of                      of                      of\n",
            "                   human                   human                   human\n",
            "               happiness               happiness               happiness\n",
            "                       .                       .                       .\n",
            "                      No                      No                      No\n",
            "                     one                     one                     one\n",
            "                 rejects                  reject                  reject\n",
            "                       ,                       ,                       ,\n",
            "                dislikes                 dislike                 dislike\n",
            "                       ,                       ,                       ,\n",
            "                      or                      or                      or\n",
            "                  avoids                  avoids                   avoid\n",
            "                pleasure                pleasure                pleasure\n",
            "                  itself                  itself                  itself\n",
            "                       ,                       ,                       ,\n",
            "                 because                 because                 because\n",
            "                      it                      it                      it\n",
            "                      is                      is                      be\n",
            "                pleasure                pleasure                pleasure\n"
          ]
        }
      ]
    }
  ]
}